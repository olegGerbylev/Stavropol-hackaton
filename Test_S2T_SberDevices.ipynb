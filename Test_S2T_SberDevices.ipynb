{
  "nbformat": 4,
  "nbformat_minor": 0,
  "metadata": {
    "colab": {
      "provenance": []
    },
    "kernelspec": {
      "name": "python3",
      "display_name": "Python 3"
    },
    "language_info": {
      "name": "python"
    }
  },
  "cells": [
    {
      "cell_type": "code",
      "source": [
        "!pip install datasets\n",
        "!pip install transformers\n",
        "!pip install pyctcdecode\n",
        "!pip install sentencepiece\n",
        "!pip install librosa\n",
        "!pip install tokenizers\n",
        "\n",
        "!pip install https://github.com/kpu/kenlm/archive/master.zip"
      ],
      "metadata": {
        "id": "eOiFFzfH42DG"
      },
      "execution_count": null,
      "outputs": []
    },
    {
      "cell_type": "code",
      "source": [
        "import os\n",
        "import warnings\n",
        "\n",
        "import librosa\n",
        "import nltk\n",
        "import numpy as np\n",
        "\n",
        "import torch\n",
        "from datasets import load_dataset\n",
        "from transformers import Wav2Vec2ForCTC, Wav2Vec2ProcessorWithLM\n",
        "\n",
        "nltk.download('punkt')"
      ],
      "metadata": {
        "id": "4QL7o0_l7sX8"
      },
      "execution_count": 2,
      "outputs": []
    },
    {
      "cell_type": "markdown",
      "source": [
        "Model credits: https://huggingface.co/bond005/wav2vec2-large-ru-golos-with-lm\n",
        "\n",
        "Модель 'wav2vec2-large-ru-golos-with-lm' хорошо распознаёт речь, но инференс не быстрый (30 сек инференс на ~30 сек аудио)\n",
        "\n",
        "При этом модель '' распознаёт текст так же хорошо (на испольхованных примерах), но инференс проходит в два раза быстрее"
      ],
      "metadata": {
        "id": "2LdYiPWyoSXC"
      }
    },
    {
      "cell_type": "code",
      "execution_count": 31,
      "metadata": {
        "id": "zJ4MM-mC4WHt"
      },
      "outputs": [],
      "source": [
        "'''\n",
        "Audio file to array\n",
        "\n",
        "path: path to audio file\n",
        "sr: sampling rate (constant 16000 for current model)\n",
        "'''\n",
        "\n",
        "def speech_file_to_array_fn(path):\n",
        "    speech_array, _ = librosa.load(path, sr=16000)\n",
        "    return np.asarray(speech_array, dtype=np.float32)"
      ]
    },
    {
      "cell_type": "code",
      "source": [
        "'''\n",
        "Speech to text inference\n",
        "\n",
        "path: path to audio file\n",
        "model: STT model object\n",
        "processor: Wav2Vec2ProcessorWithLM object from transformers\n",
        "num_processes: available number of CPU processes\n",
        "'''\n",
        "\n",
        "def speech_2_text(path, model, processor, num_processes=1):\n",
        "    input_speech_array = speech_file_to_array_fn(path)\n",
        "\n",
        "    inputs = processor(input_speech_array, sampling_rate=16_000,\n",
        "                      return_tensors=\"pt\", padding=True)\n",
        "\n",
        "    with torch.no_grad():\n",
        "        logits = model(inputs.input_values,\n",
        "                       attention_mask=inputs.attention_mask).logits\n",
        "\n",
        "    predicted_text = processor.batch_decode(logits=logits.numpy(),\n",
        "                                            num_processes=num_processes\n",
        "                                           ).text\n",
        "    return predicted_text"
      ],
      "metadata": {
        "id": "f7Jl6TjzhIBQ"
      },
      "execution_count": 41,
      "outputs": []
    },
    {
      "cell_type": "code",
      "source": [
        "MODEL_ID = \"bond005/wav2vec2-base-ru\" # bond005/wav2vec2-large-ru-golos-with-lm\n",
        "processor = Wav2Vec2ProcessorWithLM.from_pretrained(MODEL_ID)\n",
        "model = Wav2Vec2ForCTC.from_pretrained(MODEL_ID)"
      ],
      "metadata": {
        "id": "-EwV04_JjRya"
      },
      "execution_count": null,
      "outputs": []
    },
    {
      "cell_type": "code",
      "source": [
        "num_processes = max(1, os.cpu_count())\n",
        "\n",
        "path = 'sample_2.wav'"
      ],
      "metadata": {
        "id": "PDIB7Wh17rQ8"
      },
      "execution_count": null,
      "outputs": []
    },
    {
      "cell_type": "code",
      "source": [
        "predicted_text = speech_2_text(path=path, model=model,\n",
        "                               processor=processor, num_processes=num_processes)"
      ],
      "metadata": {
        "id": "OkzZ3E7piPUB"
      },
      "execution_count": 43,
      "outputs": []
    },
    {
      "cell_type": "code",
      "source": [
        "predicted_text"
      ],
      "metadata": {
        "colab": {
          "base_uri": "https://localhost:8080/"
        },
        "id": "p09pXo9gjE09",
        "outputId": "334d41d1-18dc-408d-e87e-8f949e02b692"
      },
      "execution_count": 44,
      "outputs": [
        {
          "output_type": "execute_result",
          "data": {
            "text/plain": [
              "['переподготовка рабочих кадров бригадир дяжужный по переезду машинист машинист железнодорожно строительные машины машинист тепловоза из числа лиц имеющих высшее профессиональное или средние профессиональное образование машинист теплвоза работник по управление машинист электровоза мантер пути обходчик пути ремонтник сигналист стропальщик']"
            ]
          },
          "metadata": {},
          "execution_count": 44
        }
      ]
    },
    {
      "cell_type": "code",
      "source": [
        "'''\n",
        "with warnings.catch_warnings():\n",
        "    warnings.simplefilter(\"ignore\")\n",
        "    for predicted_sentence in predicted_text):\n",
        "        print(\"-\" * 100)\n",
        "        print(\"Prediction:\", predicted_sentence)\n",
        "'''"
      ],
      "metadata": {
        "colab": {
          "base_uri": "https://localhost:8080/"
        },
        "id": "SJYbqTUJ79l0",
        "outputId": "0e36fc21-6e3e-4e3f-d006-bc8d893b256d"
      },
      "execution_count": 34,
      "outputs": [
        {
          "output_type": "stream",
          "name": "stdout",
          "text": [
            "----------------------------------------------------------------------------------------------------\n",
            "Prediction: (0, 'помощник машиниста электровоза чему вы научитесь проводить техническое обслуживание приемку и сдачу локомотива выполнять вспомогательные работы по управлению локомотивам и ведению поезда понимать причины возникновения неисправностей и уметь их исправлять')\n"
          ]
        }
      ]
    }
  ]
}