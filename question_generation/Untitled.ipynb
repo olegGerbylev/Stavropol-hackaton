{
 "cells": [
  {
   "cell_type": "code",
   "execution_count": 1,
   "id": "b0868e04-db55-4e05-8c65-a46fc7a906fa",
   "metadata": {
    "ExecuteTime": {
     "end_time": "2023-11-11T15:16:34.259712740Z",
     "start_time": "2023-11-11T15:16:33.572893574Z"
    }
   },
   "outputs": [
    {
     "name": "stderr",
     "output_type": "stream",
     "text": [
      "/home/vladislav/anaconda3/envs/question/lib/python3.6/site-packages/tqdm/auto.py:22: TqdmWarning: IProgress not found. Please update jupyter and ipywidgets. See https://ipywidgets.readthedocs.io/en/stable/user_install.html\n",
      "  from .autonotebook import tqdm as notebook_tqdm\n"
     ]
    }
   ],
   "source": [
    "from pipelines import pipeline"
   ]
  },
  {
   "cell_type": "code",
   "execution_count": 17,
   "id": "eb4f352f-4f59-437e-8a67-df54d706dadd",
   "metadata": {},
   "outputs": [],
   "source": [
    "from docx import Document\n",
    "import requests"
   ]
  },
  {
   "cell_type": "code",
   "execution_count": 2,
   "id": "9fc07700-bef6-43c6-b783-c457c01ec4d1",
   "metadata": {
    "ExecuteTime": {
     "end_time": "2023-11-11T15:16:45.474620010Z",
     "start_time": "2023-11-11T15:16:35.782730948Z"
    }
   },
   "outputs": [],
   "source": [
    "nlp = pipeline(\"e2e-qg\", model=\"valhalla/t5-base-e2e-qg\")"
   ]
  },
  {
   "cell_type": "code",
   "execution_count": 5,
   "id": "4a4dc1c1-091b-4f4b-9403-b1517914858c",
   "metadata": {},
   "outputs": [],
   "source": [
    "text = '1. The Rules of technical Operation of the Railways of the Russian Federation (hereinafter referred to as the Rules) establish a system for the organization of train traffic, requirements for the technical operation of structures and infrastructure of public railway transport <1> (hereinafter referred to as infrastructure), non-public railway tracks <2>, railway rolling stock <3> and define the duties of employees of public railway transport <4> and non-public use <5> (hereinafter - railway transport, railway transport workers, respectively).'"
   ]
  },
  {
   "cell_type": "code",
   "execution_count": 6,
   "id": "2e5bc382-a3c3-41e5-bbcc-517abcce6205",
   "metadata": {},
   "outputs": [
    {
     "name": "stderr",
     "output_type": "stream",
     "text": [
      "/home/vladislav/anaconda3/envs/question/lib/python3.6/site-packages/transformers/modeling_utils.py:1500: UserWarning: __floordiv__ is deprecated, and its behavior will change in a future version of pytorch. It currently rounds toward 0 (like the 'trunc' function NOT 'floor'). This results in incorrect rounding for negative values. To keep the current behavior, use torch.div(a, b, rounding_mode='trunc'), or for actual floor division, use torch.div(a, b, rounding_mode='floor').\n",
      "  beam_id = beam_token_id // vocab_size\n"
     ]
    },
    {
     "data": {
      "text/plain": [
       "['What are the Rules of technical Operation of the Railways of the Russian Federation referred to as?',\n",
       " 'What are requirements for the technical operation of structures and infrastructure of public railway transport?']"
      ]
     },
     "execution_count": 6,
     "metadata": {},
     "output_type": "execute_result"
    }
   ],
   "source": [
    "nlp(text)"
   ]
  },
  {
   "cell_type": "code",
   "execution_count": 30,
   "id": "4336a667-82c1-4597-9b0c-6453b2ffe27f",
   "metadata": {},
   "outputs": [],
   "source": [
    "def read_docx(file_path): \n",
    "    doc = Document(file_path) \n",
    "    text = \"\" \n",
    "    skip_paragraphs=64 \n",
    "    for i, paragraph in enumerate(doc.paragraphs): \n",
    "        if i < skip_paragraphs: \n",
    "            continue  # Пропустить абзацы в начале документа \n",
    " \n",
    "        text += paragraph.text + \"\\n\" \n",
    " \n",
    "    return text \n",
    " \n",
    "result = read_docx('23 06 2022 N 250 en.docx') \n",
    "limited_text = result[:1386]"
   ]
  },
  {
   "cell_type": "code",
   "execution_count": 32,
   "id": "a0d01bd9-f7c3-403c-9995-e339a028832b",
   "metadata": {},
   "outputs": [
    {
     "data": {
      "text/plain": [
       "'\\nII. Responsibilities of railway transport workers\\n\\n\\n5. Railway transport workers, in accordance with their official duties, must ensure compliance with the Rules and Appendices to them, as well as the safety of movement and operation of railway transport.\\n\\nCompliance with the requirements of the Rules by railway transport workers is ensured by railway transport organizations and individual entrepreneurs who perform the functions of an employer in relation to these employees.\\n\\n6.Employees of railway transport who directly serve them are responsible for the maintenance and (or) serviceable technical condition of railway tracks, structures and devices of railway transport with ensuring the frequency of repairs established by regulatory technical documentation.\\n\\nRailway transport workers, in accordance with their official duties, must know the rules for the operation of technical means and the condition of structures and devices, systematically check them and keep them in good <10> and (or) operable <11> technical condition <12>, perform maintenance and repairs in accordance with the repair <13> and operational documentation <14>, comply with the metrological requirements established by Federal Law No. 102-FZ of June 26, 2008 \"On ensuring the uniformity of Measurements\" <15>.\\n\\n--------------------------------\\n\\n< 10> Subitem 12 of item 3 of GOST R 27.102-2021.\\n\\n< 11> '"
      ]
     },
     "execution_count": 32,
     "metadata": {},
     "output_type": "execute_result"
    }
   ],
   "source": [
    "limited_text"
   ]
  },
  {
   "cell_type": "code",
   "execution_count": 31,
   "id": "ebabbaf2-3c30-4f5f-99db-8a57d79719b5",
   "metadata": {},
   "outputs": [],
   "source": [
    "# translate = 'Duties of railway transport workers\\n\\n\\n5. Railway transport workers, in accordance with their official duties, must ensure compliance with the Rules and Annexes thereto, safety of movement and operation of railway transport.\\n\\nThe observance of the requirements of the Rules by railway transport workers is ensured by railway transport organizations and individual entrepreneurs who perform the functions of an employer in relation to these employees.\\n\\n6. Responsible for the maintenance and (or) serviceable technical condition of railway tracks, structures and devices of railway transport with ensuring the frequency of repairs established by regulatory technical documentation are railway transport workers who directly service them.\\n\\n Railway transport workers, in accordance with their official duties, must know the rules of operation of technical means and the condition of structures and devices, systematically check them and keep them in good <10> and (or) operable <11> technical condition <12>, perform maintenance and repair in accordance with repair <13> and operational documentation <14>, comply with metrological requirements established by Federal Law No. 102-FZ of June 26, 2008 \"On ensuring the uniformity of measurements\" <15>'"
   ]
  },
  {
   "cell_type": "code",
   "execution_count": 33,
   "id": "af6a033a-0fe3-46b5-8d9c-49f71a184273",
   "metadata": {},
   "outputs": [],
   "source": [
    "translate = nlp(limited_text)"
   ]
  },
  {
   "cell_type": "code",
   "execution_count": 34,
   "id": "7dc8ad6a-bebc-492d-a4ec-eab9a124bc6d",
   "metadata": {},
   "outputs": [],
   "source": [
    "from deep_translator import GoogleTranslator"
   ]
  },
  {
   "cell_type": "code",
   "execution_count": 35,
   "id": "34294439-260c-4af6-830a-bb31932446db",
   "metadata": {},
   "outputs": [],
   "source": [
    "translator = GoogleTranslator(source='en', target='ru')"
   ]
  },
  {
   "cell_type": "code",
   "execution_count": 39,
   "id": "8d0e718a-568e-49e7-8cb7-43f707666d45",
   "metadata": {},
   "outputs": [
    {
     "name": "stdout",
     "output_type": "stream",
     "text": [
      "Кто несет ответственность за содержание и исправное техническое состояние железнодорожных путей, сооружений и устройств железнодорожного транспорта?\n"
     ]
    }
   ],
   "source": [
    "print(translator.translate(translate[0]))\n"
   ]
  },
  {
   "cell_type": "code",
   "execution_count": 37,
   "id": "85c36e80-2eee-4af3-95a1-e170ce7a153a",
   "metadata": {},
   "outputs": [
    {
     "data": {
      "text/plain": [
       "['Who is responsible for the maintenance and serviceable technical condition of railway tracks, structures and devices of railway transport?',\n",
       " 'What federal law established metrological requirements for railway transport workers?',\n",
       " 'Who must know the rules for the operation of technical means and the condition of structures?']"
      ]
     },
     "execution_count": 37,
     "metadata": {},
     "output_type": "execute_result"
    }
   ],
   "source": [
    "translate"
   ]
  },
  {
   "cell_type": "code",
   "execution_count": null,
   "id": "b6ef41ff-ea02-489c-8e15-c6b495ca5674",
   "metadata": {},
   "outputs": [],
   "source": []
  }
 ],
 "metadata": {
  "kernelspec": {
   "display_name": "Python 3",
   "language": "python",
   "name": "python3"
  },
  "language_info": {
   "codemirror_mode": {
    "name": "ipython",
    "version": 3
   },
   "file_extension": ".py",
   "mimetype": "text/x-python",
   "name": "python",
   "nbconvert_exporter": "python",
   "pygments_lexer": "ipython3",
   "version": "3.6.15"
  }
 },
 "nbformat": 4,
 "nbformat_minor": 5
}
